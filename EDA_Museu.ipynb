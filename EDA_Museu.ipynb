{
  "nbformat": 4,
  "nbformat_minor": 0,
  "metadata": {
    "colab": {
      "name": "EDA_Museu",
      "provenance": []
    },
    "kernelspec": {
      "name": "python3",
      "display_name": "Python 3"
    },
    "language_info": {
      "name": "python"
    }
  },
  "cells": [
    {
      "cell_type": "code",
      "metadata": {
        "id": "ABezWFnpWuMq"
      },
      "source": [
        "import pandas as pd\n",
        "import numpy as np\n",
        "import matplotlib.pyplot as plt\n",
        "import plotly.graph_objects as go\n",
        "from plotly.subplots import make_subplots"
      ],
      "execution_count": null,
      "outputs": []
    },
    {
      "cell_type": "markdown",
      "metadata": {
        "id": "nl2Fsj1jhBrS"
      },
      "source": [
        "##Conhecendo os dados, verificando NaN e duplicados "
      ]
    },
    {
      "cell_type": "code",
      "metadata": {
        "colab": {
          "base_uri": "https://localhost:8080/",
          "height": 398
        },
        "id": "-KWaIlJGW10t",
        "outputId": "0379b12f-d910-4dd5-b916-e71f1788de47"
      },
      "source": [
        "dados = pd.read_csv(\"/content/drive/MyDrive/Projeto_IC_Unicamp/dados/Coletas/Coleta_06-06-2021/Dados.csv\")\n",
        "dados.head()"
      ],
      "execution_count": null,
      "outputs": [
        {
          "output_type": "execute_result",
          "data": {
            "text/html": [
              "<div>\n",
              "<style scoped>\n",
              "    .dataframe tbody tr th:only-of-type {\n",
              "        vertical-align: middle;\n",
              "    }\n",
              "\n",
              "    .dataframe tbody tr th {\n",
              "        vertical-align: top;\n",
              "    }\n",
              "\n",
              "    .dataframe thead th {\n",
              "        text-align: right;\n",
              "    }\n",
              "</style>\n",
              "<table border=\"1\" class=\"dataframe\">\n",
              "  <thead>\n",
              "    <tr style=\"text-align: right;\">\n",
              "      <th></th>\n",
              "      <th>id</th>\n",
              "      <th>link</th>\n",
              "      <th>Titulo_pagina</th>\n",
              "      <th>foto</th>\n",
              "      <th>nome_foto</th>\n",
              "      <th>numero_catalogo</th>\n",
              "      <th>colecao_original</th>\n",
              "      <th>estado_colecao</th>\n",
              "      <th>filo</th>\n",
              "      <th>classe</th>\n",
              "      <th>ordem</th>\n",
              "      <th>familia</th>\n",
              "      <th>genero</th>\n",
              "      <th>especie</th>\n",
              "      <th>nome</th>\n",
              "      <th>país</th>\n",
              "      <th>estado_provincia</th>\n",
              "      <th>municipio</th>\n",
              "      <th>nome_coletor</th>\n",
              "      <th>era</th>\n",
              "      <th>sistema</th>\n",
              "      <th>series</th>\n",
              "      <th>estagio</th>\n",
              "      <th>data_coleta</th>\n",
              "    </tr>\n",
              "  </thead>\n",
              "  <tbody>\n",
              "    <tr>\n",
              "      <th>0</th>\n",
              "      <td>1</td>\n",
              "      <td>https://science.mnhn.fr/institution/mnhn/colle...</td>\n",
              "      <td>Spécimen fossile - HOLOTYPE Belonaspis minuta ...</td>\n",
              "      <td>http://imager.mnhn.fr/imager3/w400/media/14520...</td>\n",
              "      <td>Img_001.jpg</td>\n",
              "      <td>MNHN.F.SVD1084</td>\n",
              "      <td>Spitsberg Dévonien</td>\n",
              "      <td>Não informado</td>\n",
              "      <td>Chordata</td>\n",
              "      <td>Osteostraci</td>\n",
              "      <td>Cephalaspidiformes</td>\n",
              "      <td>Boreaspididae</td>\n",
              "      <td>Belonaspis</td>\n",
              "      <td>Belonaspis minuta</td>\n",
              "      <td>Belonaspis minuta JANVIER, 1985</td>\n",
              "      <td>Norvège</td>\n",
              "      <td>Svalbard</td>\n",
              "      <td>Não informado</td>\n",
              "      <td>Não informado</td>\n",
              "      <td>Paléozoïque</td>\n",
              "      <td>Dévonien</td>\n",
              "      <td>Dévonien inférieur</td>\n",
              "      <td>Praguien</td>\n",
              "      <td>2021-06-06</td>\n",
              "    </tr>\n",
              "    <tr>\n",
              "      <th>1</th>\n",
              "      <td>2</td>\n",
              "      <td>https://science.mnhn.fr/institution/mnhn/colle...</td>\n",
              "      <td>Spécimen fossile - HOLOTYPE Diademaspis poplin...</td>\n",
              "      <td>http://imager.mnhn.fr/imager3/w400/media/14520...</td>\n",
              "      <td>Img_001.jpg</td>\n",
              "      <td>MNHN.F.SVD1103</td>\n",
              "      <td>Não informado</td>\n",
              "      <td>Não informado</td>\n",
              "      <td>Chordata</td>\n",
              "      <td>Osteostraci</td>\n",
              "      <td>Cephalaspidiformes</td>\n",
              "      <td>Scolenaspididae</td>\n",
              "      <td>Diademaspis</td>\n",
              "      <td>Diademaspis poplinae</td>\n",
              "      <td>Diademaspis poplinae JANVIER, 1985</td>\n",
              "      <td>Norvège</td>\n",
              "      <td>Svalbard</td>\n",
              "      <td>Não informado</td>\n",
              "      <td>Não informado</td>\n",
              "      <td>Não informado</td>\n",
              "      <td>Não informado</td>\n",
              "      <td>Não informado</td>\n",
              "      <td>Não informado</td>\n",
              "      <td>2021-06-06</td>\n",
              "    </tr>\n",
              "    <tr>\n",
              "      <th>2</th>\n",
              "      <td>3</td>\n",
              "      <td>https://science.mnhn.fr/institution/mnhn/colle...</td>\n",
              "      <td>Spécimen fossile - HOLOTYPE Machairaspis batta...</td>\n",
              "      <td>http://imager.mnhn.fr/imager3/w400/media/14520...</td>\n",
              "      <td>Img_003.jpg</td>\n",
              "      <td>MNHN.F.SVD1116</td>\n",
              "      <td>Spitsberg Dévonien</td>\n",
              "      <td>Não informado</td>\n",
              "      <td>Chordata</td>\n",
              "      <td>Osteostraci</td>\n",
              "      <td>Cephalaspidiformes</td>\n",
              "      <td>Scolenaspididae</td>\n",
              "      <td>Machairaspis</td>\n",
              "      <td>Machairaspis battaili</td>\n",
              "      <td>Machairaspis battaili JANVIER, 1985</td>\n",
              "      <td>Norvège</td>\n",
              "      <td>Svalbard</td>\n",
              "      <td>Não informado</td>\n",
              "      <td>Não informado</td>\n",
              "      <td>Paléozoïque</td>\n",
              "      <td>Dévonien</td>\n",
              "      <td>Dévonien inférieur</td>\n",
              "      <td>Praguien</td>\n",
              "      <td>2021-06-06</td>\n",
              "    </tr>\n",
              "    <tr>\n",
              "      <th>3</th>\n",
              "      <td>4</td>\n",
              "      <td>https://science.mnhn.fr/institution/mnhn/colle...</td>\n",
              "      <td>Spécimen fossile - HOLOTYPE Parameteoraspis ob...</td>\n",
              "      <td>http://imager.mnhn.fr/imager3/w400/media/14520...</td>\n",
              "      <td>Img_004.jpg</td>\n",
              "      <td>MNHN.F.SVD1149</td>\n",
              "      <td>Spitsberg Dévonien</td>\n",
              "      <td>Não informado</td>\n",
              "      <td>Chordata</td>\n",
              "      <td>Osteostraci</td>\n",
              "      <td>Cephalaspidiformes</td>\n",
              "      <td>Cephalaspididae</td>\n",
              "      <td>Parameteoraspis</td>\n",
              "      <td>Parameteoraspis oberon</td>\n",
              "      <td>Parameteoraspis oberon JANVIER, 1985</td>\n",
              "      <td>Norvège</td>\n",
              "      <td>Svalbard</td>\n",
              "      <td>Não informado</td>\n",
              "      <td>Não informado</td>\n",
              "      <td>Paléozoïque</td>\n",
              "      <td>Dévonien</td>\n",
              "      <td>Dévonien inférieur</td>\n",
              "      <td>Emsien</td>\n",
              "      <td>2021-06-06</td>\n",
              "    </tr>\n",
              "    <tr>\n",
              "      <th>4</th>\n",
              "      <td>5</td>\n",
              "      <td>https://science.mnhn.fr/institution/mnhn/colle...</td>\n",
              "      <td>Spécimen fossile - HOLOTYPE Dicksonosteus arct...</td>\n",
              "      <td>http://imager.mnhn.fr/imager3/w400/media/14520...</td>\n",
              "      <td>Img_005.jpg</td>\n",
              "      <td>MNHN.F.SVD115</td>\n",
              "      <td>Spitsberg Dévonien</td>\n",
              "      <td>incomplet</td>\n",
              "      <td>Chordata</td>\n",
              "      <td>Placodermi</td>\n",
              "      <td>Arthrodira</td>\n",
              "      <td>Arctaspididae</td>\n",
              "      <td>Dicksonosteus</td>\n",
              "      <td>Dicksonosteus arcticus</td>\n",
              "      <td>Dicksonosteus arcticus GOUJET, 1975</td>\n",
              "      <td>Norvège</td>\n",
              "      <td>Svalbard</td>\n",
              "      <td>Não informado</td>\n",
              "      <td>Não informado</td>\n",
              "      <td>Paléozoïque</td>\n",
              "      <td>Dévonien</td>\n",
              "      <td>Dévonien inférieur</td>\n",
              "      <td>Praguien</td>\n",
              "      <td>2021-06-06</td>\n",
              "    </tr>\n",
              "  </tbody>\n",
              "</table>\n",
              "</div>"
            ],
            "text/plain": [
              "   id  ... data_coleta\n",
              "0   1  ...  2021-06-06\n",
              "1   2  ...  2021-06-06\n",
              "2   3  ...  2021-06-06\n",
              "3   4  ...  2021-06-06\n",
              "4   5  ...  2021-06-06\n",
              "\n",
              "[5 rows x 24 columns]"
            ]
          },
          "metadata": {
            "tags": []
          },
          "execution_count": 2
        }
      ]
    },
    {
      "cell_type": "code",
      "metadata": {
        "colab": {
          "base_uri": "https://localhost:8080/",
          "height": 519
        },
        "id": "KH6IP-UWX3os",
        "outputId": "ae50b895-da22-4d5a-dc8f-5d793d15a0d7"
      },
      "source": [
        "dados.tail()"
      ],
      "execution_count": null,
      "outputs": [
        {
          "output_type": "execute_result",
          "data": {
            "text/html": [
              "<div>\n",
              "<style scoped>\n",
              "    .dataframe tbody tr th:only-of-type {\n",
              "        vertical-align: middle;\n",
              "    }\n",
              "\n",
              "    .dataframe tbody tr th {\n",
              "        vertical-align: top;\n",
              "    }\n",
              "\n",
              "    .dataframe thead th {\n",
              "        text-align: right;\n",
              "    }\n",
              "</style>\n",
              "<table border=\"1\" class=\"dataframe\">\n",
              "  <thead>\n",
              "    <tr style=\"text-align: right;\">\n",
              "      <th></th>\n",
              "      <th>id</th>\n",
              "      <th>link</th>\n",
              "      <th>Titulo_pagina</th>\n",
              "      <th>foto</th>\n",
              "      <th>nome_foto</th>\n",
              "      <th>numero_catalogo</th>\n",
              "      <th>colecao_original</th>\n",
              "      <th>estado_colecao</th>\n",
              "      <th>filo</th>\n",
              "      <th>classe</th>\n",
              "      <th>ordem</th>\n",
              "      <th>familia</th>\n",
              "      <th>genero</th>\n",
              "      <th>especie</th>\n",
              "      <th>nome</th>\n",
              "      <th>país</th>\n",
              "      <th>estado_provincia</th>\n",
              "      <th>municipio</th>\n",
              "      <th>nome_coletor</th>\n",
              "      <th>era</th>\n",
              "      <th>sistema</th>\n",
              "      <th>series</th>\n",
              "      <th>estagio</th>\n",
              "      <th>data_coleta</th>\n",
              "    </tr>\n",
              "  </thead>\n",
              "  <tbody>\n",
              "    <tr>\n",
              "      <th>9484</th>\n",
              "      <td>9485</td>\n",
              "      <td>https://science.mnhn.fr/institution/mnhn/colle...</td>\n",
              "      <td>Spécimen fossile - HOLOTYPE Marginella (Egouen...</td>\n",
              "      <td>http://imager.mnhn.fr/imager3/w400/media/14615...</td>\n",
              "      <td>Img_009485.jpg</td>\n",
              "      <td>MNHN.F.J04850</td>\n",
              "      <td>Cossmann</td>\n",
              "      <td>complet</td>\n",
              "      <td>Mollusca</td>\n",
              "      <td>Gastropoda</td>\n",
              "      <td>Neogastropoda</td>\n",
              "      <td>Marginellidae</td>\n",
              "      <td>Marginella</td>\n",
              "      <td>Marginella dichotomoptycha</td>\n",
              "      <td>Marginella (Egouena) dichotomoptycha COSSMANN,...</td>\n",
              "      <td>France</td>\n",
              "      <td>Pays de la Loire</td>\n",
              "      <td>Saffré</td>\n",
              "      <td>Cossmann, Maurice</td>\n",
              "      <td>Cénozoïque</td>\n",
              "      <td>Paléogène</td>\n",
              "      <td>Éocène</td>\n",
              "      <td>Bartonien</td>\n",
              "      <td>2021-06-06</td>\n",
              "    </tr>\n",
              "    <tr>\n",
              "      <th>9485</th>\n",
              "      <td>9486</td>\n",
              "      <td>https://science.mnhn.fr/institution/mnhn/colle...</td>\n",
              "      <td>Spécimen fossile - HOLOTYPE Mitra berthelini C...</td>\n",
              "      <td>http://imager.mnhn.fr/imager3/w400/media/15379...</td>\n",
              "      <td>Img_009486.jpg</td>\n",
              "      <td>MNHN.F.J04853</td>\n",
              "      <td>Cossmann</td>\n",
              "      <td>complet</td>\n",
              "      <td>Mollusca</td>\n",
              "      <td>Gastropoda</td>\n",
              "      <td>Neogastropoda</td>\n",
              "      <td>Costellariidae</td>\n",
              "      <td>Mitra</td>\n",
              "      <td>Mitra berthelini</td>\n",
              "      <td>Mitra berthelini COSSMANN, 1896</td>\n",
              "      <td>France</td>\n",
              "      <td>Pays de la Loire</td>\n",
              "      <td>Saffré</td>\n",
              "      <td>Dumas, Jean Louis Geor...</td>\n",
              "      <td>Cénozoïque</td>\n",
              "      <td>Paléogène</td>\n",
              "      <td>Éocène</td>\n",
              "      <td>Bartonien</td>\n",
              "      <td>2021-06-06</td>\n",
              "    </tr>\n",
              "    <tr>\n",
              "      <th>9486</th>\n",
              "      <td>9487</td>\n",
              "      <td>https://science.mnhn.fr/institution/mnhn/colle...</td>\n",
              "      <td>Lot de 6 spécimens fossiles - SYNTYPE Mitra (C...</td>\n",
              "      <td>http://imager.mnhn.fr/imager3/w400/media/14891...</td>\n",
              "      <td>Img_009487.jpg</td>\n",
              "      <td>MNHN.F.J04857</td>\n",
              "      <td>Cossmann</td>\n",
              "      <td>complet</td>\n",
              "      <td>Mollusca</td>\n",
              "      <td>Gastropoda</td>\n",
              "      <td>Neogastropoda</td>\n",
              "      <td>Costellariidae</td>\n",
              "      <td>Mitra</td>\n",
              "      <td>Mitra namnetica</td>\n",
              "      <td>Mitra (Conomitra) namnetica COSSMANN, 1896</td>\n",
              "      <td>France</td>\n",
              "      <td>Pays de la Loire</td>\n",
              "      <td>Saffré</td>\n",
              "      <td>Cossmann, Maurice</td>\n",
              "      <td>Cénozoïque</td>\n",
              "      <td>Paléogène</td>\n",
              "      <td>Éocène</td>\n",
              "      <td>Bartonien</td>\n",
              "      <td>2021-06-06</td>\n",
              "    </tr>\n",
              "    <tr>\n",
              "      <th>9487</th>\n",
              "      <td>9488</td>\n",
              "      <td>https://science.mnhn.fr/institution/mnhn/colle...</td>\n",
              "      <td>Lot de 2 spécimens fossiles - SYNTYPE Drillia ...</td>\n",
              "      <td>http://imager.mnhn.fr/imager3/w400/media/14787...</td>\n",
              "      <td>Img_009488.jpg</td>\n",
              "      <td>MNHN.F.J04859</td>\n",
              "      <td>Cossmann</td>\n",
              "      <td>complet</td>\n",
              "      <td>Mollusca</td>\n",
              "      <td>Gastropoda</td>\n",
              "      <td>Neogastropoda</td>\n",
              "      <td>Drilliidae</td>\n",
              "      <td>Drillia</td>\n",
              "      <td>Drillia erronea</td>\n",
              "      <td>Drillia (Crassispira) erronea COSSMANN, 1902</td>\n",
              "      <td>France</td>\n",
              "      <td>Pays de la Loire</td>\n",
              "      <td>La Close</td>\n",
              "      <td>Cossmann, Maurice</td>\n",
              "      <td>Cénozoïque</td>\n",
              "      <td>Paléogène</td>\n",
              "      <td>Éocène</td>\n",
              "      <td>Bartonien</td>\n",
              "      <td>2021-06-06</td>\n",
              "    </tr>\n",
              "    <tr>\n",
              "      <th>9488</th>\n",
              "      <td>9489</td>\n",
              "      <td>https://science.mnhn.fr/institution/mnhn/colle...</td>\n",
              "      <td>Spécimen fossile - HOLOTYPE Drillia (Crassispi...</td>\n",
              "      <td>http://imager.mnhn.fr/imager3/w400/media/14816...</td>\n",
              "      <td>Img_009489.jpg</td>\n",
              "      <td>MNHN.F.J04860</td>\n",
              "      <td>Cossmann</td>\n",
              "      <td>complet</td>\n",
              "      <td>Mollusca</td>\n",
              "      <td>Gastropoda</td>\n",
              "      <td>Neogastropoda</td>\n",
              "      <td>Drilliidae</td>\n",
              "      <td>Drillia</td>\n",
              "      <td>Drillia labroplicata</td>\n",
              "      <td>Drillia (Crassispira) labroplicata COSSMANN, 1896</td>\n",
              "      <td>France</td>\n",
              "      <td>Pays de la Loire</td>\n",
              "      <td>La Close</td>\n",
              "      <td>Cossmann, Maurice</td>\n",
              "      <td>Cénozoïque</td>\n",
              "      <td>Paléogène</td>\n",
              "      <td>Éocène</td>\n",
              "      <td>Bartonien</td>\n",
              "      <td>2021-06-06</td>\n",
              "    </tr>\n",
              "  </tbody>\n",
              "</table>\n",
              "</div>"
            ],
            "text/plain": [
              "        id  ... data_coleta\n",
              "9484  9485  ...  2021-06-06\n",
              "9485  9486  ...  2021-06-06\n",
              "9486  9487  ...  2021-06-06\n",
              "9487  9488  ...  2021-06-06\n",
              "9488  9489  ...  2021-06-06\n",
              "\n",
              "[5 rows x 24 columns]"
            ]
          },
          "metadata": {
            "tags": []
          },
          "execution_count": 3
        }
      ]
    },
    {
      "cell_type": "code",
      "metadata": {
        "colab": {
          "base_uri": "https://localhost:8080/"
        },
        "id": "cRoKoazQX2dD",
        "outputId": "e0849363-e329-4c6c-865b-b8bb37009e69"
      },
      "source": [
        "dados.shape"
      ],
      "execution_count": null,
      "outputs": [
        {
          "output_type": "execute_result",
          "data": {
            "text/plain": [
              "(9489, 24)"
            ]
          },
          "metadata": {
            "tags": []
          },
          "execution_count": 4
        }
      ]
    },
    {
      "cell_type": "code",
      "metadata": {
        "colab": {
          "base_uri": "https://localhost:8080/"
        },
        "id": "61dBSTB8X6_l",
        "outputId": "2851d0cd-e096-4882-9b3e-8408e9cf6922"
      },
      "source": [
        "dados.columns"
      ],
      "execution_count": null,
      "outputs": [
        {
          "output_type": "execute_result",
          "data": {
            "text/plain": [
              "Index(['id', 'link', 'Titulo_pagina', 'foto', 'nome_foto', 'numero_catalogo',\n",
              "       'colecao_original', 'estado_colecao', 'filo', 'classe', 'ordem',\n",
              "       'familia', 'genero', 'especie', 'nome', 'país', 'estado_provincia',\n",
              "       'municipio', 'nome_coletor', 'era', 'sistema', 'series', 'estagio',\n",
              "       'data_coleta'],\n",
              "      dtype='object')"
            ]
          },
          "metadata": {
            "tags": []
          },
          "execution_count": 5
        }
      ]
    },
    {
      "cell_type": "markdown",
      "metadata": {
        "id": "T3QIVcCkhaEe"
      },
      "source": [
        "##Verificando NaN"
      ]
    },
    {
      "cell_type": "code",
      "metadata": {
        "colab": {
          "base_uri": "https://localhost:8080/"
        },
        "id": "wC0ZWNswX9eL",
        "outputId": "0b54d7c9-f2f3-4da8-d9ce-d39b9da33565"
      },
      "source": [
        "dados.isnull().sum()"
      ],
      "execution_count": null,
      "outputs": [
        {
          "output_type": "execute_result",
          "data": {
            "text/plain": [
              "id                  0\n",
              "link                0\n",
              "Titulo_pagina       0\n",
              "foto                0\n",
              "nome_foto           0\n",
              "numero_catalogo     0\n",
              "colecao_original    0\n",
              "estado_colecao      0\n",
              "filo                0\n",
              "classe              0\n",
              "ordem               0\n",
              "familia             0\n",
              "genero              0\n",
              "especie             0\n",
              "nome                0\n",
              "país                0\n",
              "estado_provincia    0\n",
              "municipio           0\n",
              "nome_coletor        0\n",
              "era                 0\n",
              "sistema             0\n",
              "series              0\n",
              "estagio             0\n",
              "data_coleta         0\n",
              "dtype: int64"
            ]
          },
          "metadata": {
            "tags": []
          },
          "execution_count": 6
        }
      ]
    },
    {
      "cell_type": "markdown",
      "metadata": {
        "id": "vdL0fKxIhey-"
      },
      "source": [
        "##Verificando duplicados"
      ]
    },
    {
      "cell_type": "code",
      "metadata": {
        "colab": {
          "base_uri": "https://localhost:8080/"
        },
        "id": "zXG_S6MzYBLc",
        "outputId": "2a48e3d4-7d93-408a-c994-4b676e9c3536"
      },
      "source": [
        "dados.duplicated().sum()"
      ],
      "execution_count": null,
      "outputs": [
        {
          "output_type": "execute_result",
          "data": {
            "text/plain": [
              "0"
            ]
          },
          "metadata": {
            "tags": []
          },
          "execution_count": 7
        }
      ]
    },
    {
      "cell_type": "markdown",
      "metadata": {
        "id": "h0Ym98O3h0ha"
      },
      "source": [
        "#Análise Exploratória"
      ]
    },
    {
      "cell_type": "markdown",
      "metadata": {
        "id": "s6O7L8kBh8_i"
      },
      "source": [
        "##Filo"
      ]
    },
    {
      "cell_type": "code",
      "metadata": {
        "colab": {
          "base_uri": "https://localhost:8080/"
        },
        "id": "LB6NyaFZYEbF",
        "outputId": "48663b2c-cedc-4d41-f8a6-483877e43479"
      },
      "source": [
        "dados['filo'].value_counts()"
      ],
      "execution_count": null,
      "outputs": [
        {
          "output_type": "execute_result",
          "data": {
            "text/plain": [
              "Mollusca         3512\n",
              "Foraminifera     1717\n",
              "Bryozoa          1058\n",
              "Arthropoda        982\n",
              "Echinodermata     766\n",
              "Cnidaria          731\n",
              "Chordata          253\n",
              "Brachiopoda       170\n",
              "Porifera          119\n",
              "Não informado     114\n",
              "Ichnotaxon         50\n",
              "Annelida            8\n",
              "Protista            7\n",
              "Filicophyta         1\n",
              "Hemichordata        1\n",
              "Name: filo, dtype: int64"
            ]
          },
          "metadata": {
            "tags": []
          },
          "execution_count": 8
        }
      ]
    },
    {
      "cell_type": "code",
      "metadata": {
        "colab": {
          "base_uri": "https://localhost:8080/"
        },
        "id": "r8e1bldNYLSV",
        "outputId": "ff81629d-ded1-40d5-921a-fe5d29dc337f"
      },
      "source": [
        "dados['filo'].value_counts(normalize=True)*100"
      ],
      "execution_count": null,
      "outputs": [
        {
          "output_type": "execute_result",
          "data": {
            "text/plain": [
              "Mollusca         37.011276\n",
              "Foraminifera     18.094636\n",
              "Bryozoa          11.149752\n",
              "Arthropoda       10.348825\n",
              "Echinodermata     8.072505\n",
              "Cnidaria          7.703657\n",
              "Chordata          2.666245\n",
              "Brachiopoda       1.791548\n",
              "Porifera          1.254084\n",
              "Não informado     1.201391\n",
              "Ichnotaxon        0.526926\n",
              "Annelida          0.084308\n",
              "Protista          0.073770\n",
              "Filicophyta       0.010539\n",
              "Hemichordata      0.010539\n",
              "Name: filo, dtype: float64"
            ]
          },
          "metadata": {
            "tags": []
          },
          "execution_count": 9
        }
      ]
    },
    {
      "cell_type": "code",
      "metadata": {
        "id": "gybg_3HgakCB"
      },
      "source": [
        "molusca = dados[dados['filo'] == \"Mollusca\"]"
      ],
      "execution_count": null,
      "outputs": []
    },
    {
      "cell_type": "code",
      "metadata": {
        "id": "wLo68Zfgf11P",
        "colab": {
          "base_uri": "https://localhost:8080/"
        },
        "outputId": "28960f91-36a0-40ee-ccff-07f813439946"
      },
      "source": [
        "molusca['classe'].value_counts()"
      ],
      "execution_count": null,
      "outputs": [
        {
          "output_type": "execute_result",
          "data": {
            "text/plain": [
              "Gastropoda         1780\n",
              "Bivalvia           1188\n",
              "Cephalopoda         524\n",
              "Tentaculitoidea      12\n",
              "Scaphopoda            5\n",
              "Amphineura            3\n",
              "Name: classe, dtype: int64"
            ]
          },
          "metadata": {
            "tags": []
          },
          "execution_count": 11
        }
      ]
    },
    {
      "cell_type": "code",
      "metadata": {
        "colab": {
          "base_uri": "https://localhost:8080/"
        },
        "id": "23Is5RbAYT6h",
        "outputId": "21740e0d-8902-45ea-890d-acded5838f86"
      },
      "source": [
        "dados['era'].value_counts()"
      ],
      "execution_count": null,
      "outputs": [
        {
          "output_type": "execute_result",
          "data": {
            "text/plain": [
              "Mésozoïque       4746\n",
              "Cénozoïque       3800\n",
              "Paléozoïque       496\n",
              "Não informado     434\n",
              "Actuel             12\n",
              "Précambrien         1\n",
              "Name: era, dtype: int64"
            ]
          },
          "metadata": {
            "tags": []
          },
          "execution_count": 19
        }
      ]
    },
    {
      "cell_type": "code",
      "metadata": {
        "colab": {
          "base_uri": "https://localhost:8080/"
        },
        "id": "7-gLxYnRZ_jd",
        "outputId": "3391c7c0-2f5c-42e4-8d4d-7c21911b9366"
      },
      "source": [
        "dados['era'].value_counts(normalize=True)*100"
      ],
      "execution_count": null,
      "outputs": [
        {
          "output_type": "execute_result",
          "data": {
            "text/plain": [
              "Mésozoïque       50.015808\n",
              "Cénozoïque       40.046369\n",
              "Paléozoïque       5.227105\n",
              "Não informado     4.573717\n",
              "Actuel            0.126462\n",
              "Précambrien       0.010539\n",
              "Name: era, dtype: float64"
            ]
          },
          "metadata": {
            "tags": []
          },
          "execution_count": 21
        }
      ]
    },
    {
      "cell_type": "code",
      "metadata": {
        "colab": {
          "base_uri": "https://localhost:8080/"
        },
        "id": "Z0pqJmJgaGVt",
        "outputId": "f1a9da7b-65c3-43bb-c0cd-8657e6e929e5"
      },
      "source": [
        "dados['estado_colecao'].value_counts()"
      ],
      "execution_count": null,
      "outputs": [
        {
          "output_type": "execute_result",
          "data": {
            "text/plain": [
              "complet          5091\n",
              "incomplet        3489\n",
              "Não informado     904\n",
              "détruit             5\n",
              "Name: estado_colecao, dtype: int64"
            ]
          },
          "metadata": {
            "tags": []
          },
          "execution_count": 22
        }
      ]
    },
    {
      "cell_type": "code",
      "metadata": {
        "colab": {
          "base_uri": "https://localhost:8080/"
        },
        "id": "L2aty1uLaNi2",
        "outputId": "c730eef4-7c68-4839-b8fe-d7e1dbe33ebb"
      },
      "source": [
        "dados['estado_colecao'].value_counts(normalize=True)*100"
      ],
      "execution_count": null,
      "outputs": [
        {
          "output_type": "execute_result",
          "data": {
            "text/plain": [
              "complet          53.651597\n",
              "incomplet        36.768890\n",
              "Não informado     9.526821\n",
              "détruit           0.052693\n",
              "Name: estado_colecao, dtype: float64"
            ]
          },
          "metadata": {
            "tags": []
          },
          "execution_count": 23
        }
      ]
    },
    {
      "cell_type": "code",
      "metadata": {
        "colab": {
          "base_uri": "https://localhost:8080/"
        },
        "id": "B6HG7_4MaQQf",
        "outputId": "5ed2969d-6a29-4130-ac84-90b9394a2e35"
      },
      "source": [
        "dados['país'].value_counts()"
      ],
      "execution_count": null,
      "outputs": [
        {
          "output_type": "execute_result",
          "data": {
            "text/plain": [
              "                      France              6542\n",
              "                      Madagascar           280\n",
              "                      Algérie              243\n",
              "                      Niger                206\n",
              "                      Italie               205\n",
              "                                          ... \n",
              "                      Rép. dominicaine       1\n",
              "                      Pays de Galles         1\n",
              "                      Panama                 1\n",
              "                      Anti-Liban             1\n",
              "                      Amérique               1\n",
              "Name: país, Length: 83, dtype: int64"
            ]
          },
          "metadata": {
            "tags": []
          },
          "execution_count": 24
        }
      ]
    },
    {
      "cell_type": "code",
      "metadata": {
        "colab": {
          "base_uri": "https://localhost:8080/"
        },
        "id": "y4srIRnyahNw",
        "outputId": "0c8a8542-a4fc-41cc-8504-d520a8071720"
      },
      "source": [
        "dados['país'].value_counts(normalize=True)*100"
      ],
      "execution_count": null,
      "outputs": [
        {
          "output_type": "execute_result",
          "data": {
            "text/plain": [
              "                      France              68.942987\n",
              "                      Madagascar           2.950785\n",
              "                      Algérie              2.560860\n",
              "                      Niger                2.170935\n",
              "                      Italie               2.160396\n",
              "                                            ...    \n",
              "                      Rép. dominicaine     0.010539\n",
              "                      Pays de Galles       0.010539\n",
              "                      Panama               0.010539\n",
              "                      Anti-Liban           0.010539\n",
              "                      Amérique             0.010539\n",
              "Name: país, Length: 83, dtype: float64"
            ]
          },
          "metadata": {
            "tags": []
          },
          "execution_count": 25
        }
      ]
    },
    {
      "cell_type": "code",
      "metadata": {
        "id": "3AJvQ9bzf5JY"
      },
      "source": [
        ""
      ],
      "execution_count": null,
      "outputs": []
    }
  ]
}